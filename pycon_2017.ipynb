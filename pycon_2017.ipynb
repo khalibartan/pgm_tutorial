{
 "cells": [
  {
   "cell_type": "code",
   "execution_count": 3,
   "metadata": {},
   "outputs": [
    {
     "data": {
      "text/html": [
       "<div>\n",
       "<table border=\"1\" class=\"dataframe\">\n",
       "  <thead>\n",
       "    <tr style=\"text-align: right;\">\n",
       "      <th></th>\n",
       "      <th>IsSummer</th>\n",
       "      <th>HasFlu</th>\n",
       "      <th>HasFoodPoisoning</th>\n",
       "      <th>HasHayFever</th>\n",
       "      <th>HasPneumonia</th>\n",
       "      <th>HasRespiratoryProblems</th>\n",
       "      <th>HasGastricProblems</th>\n",
       "      <th>HasRash</th>\n",
       "      <th>Coughs</th>\n",
       "      <th>IsFatigued</th>\n",
       "      <th>Vomits</th>\n",
       "      <th>HasFever</th>\n",
       "    </tr>\n",
       "  </thead>\n",
       "  <tbody>\n",
       "    <tr>\n",
       "      <th>0</th>\n",
       "      <td>1</td>\n",
       "      <td>0</td>\n",
       "      <td>0</td>\n",
       "      <td>0</td>\n",
       "      <td>0</td>\n",
       "      <td>0</td>\n",
       "      <td>0</td>\n",
       "      <td>0</td>\n",
       "      <td>0</td>\n",
       "      <td>0</td>\n",
       "      <td>0</td>\n",
       "      <td>0</td>\n",
       "    </tr>\n",
       "    <tr>\n",
       "      <th>1</th>\n",
       "      <td>0</td>\n",
       "      <td>0</td>\n",
       "      <td>0</td>\n",
       "      <td>1</td>\n",
       "      <td>0</td>\n",
       "      <td>0</td>\n",
       "      <td>0</td>\n",
       "      <td>1</td>\n",
       "      <td>0</td>\n",
       "      <td>0</td>\n",
       "      <td>0</td>\n",
       "      <td>0</td>\n",
       "    </tr>\n",
       "    <tr>\n",
       "      <th>2</th>\n",
       "      <td>0</td>\n",
       "      <td>0</td>\n",
       "      <td>0</td>\n",
       "      <td>1</td>\n",
       "      <td>0</td>\n",
       "      <td>0</td>\n",
       "      <td>0</td>\n",
       "      <td>0</td>\n",
       "      <td>0</td>\n",
       "      <td>0</td>\n",
       "      <td>0</td>\n",
       "      <td>0</td>\n",
       "    </tr>\n",
       "    <tr>\n",
       "      <th>3</th>\n",
       "      <td>0</td>\n",
       "      <td>0</td>\n",
       "      <td>0</td>\n",
       "      <td>0</td>\n",
       "      <td>0</td>\n",
       "      <td>0</td>\n",
       "      <td>0</td>\n",
       "      <td>0</td>\n",
       "      <td>0</td>\n",
       "      <td>0</td>\n",
       "      <td>0</td>\n",
       "      <td>0</td>\n",
       "    </tr>\n",
       "    <tr>\n",
       "      <th>4</th>\n",
       "      <td>1</td>\n",
       "      <td>0</td>\n",
       "      <td>0</td>\n",
       "      <td>0</td>\n",
       "      <td>0</td>\n",
       "      <td>0</td>\n",
       "      <td>0</td>\n",
       "      <td>1</td>\n",
       "      <td>0</td>\n",
       "      <td>0</td>\n",
       "      <td>0</td>\n",
       "      <td>0</td>\n",
       "    </tr>\n",
       "  </tbody>\n",
       "</table>\n",
       "</div>"
      ],
      "text/plain": [
       "  IsSummer HasFlu HasFoodPoisoning HasHayFever HasPneumonia  \\\n",
       "0        1      0                0           0            0   \n",
       "1        0      0                0           1            0   \n",
       "2        0      0                0           1            0   \n",
       "3        0      0                0           0            0   \n",
       "4        1      0                0           0            0   \n",
       "\n",
       "  HasRespiratoryProblems HasGastricProblems HasRash Coughs IsFatigued Vomits  \\\n",
       "0                      0                  0       0      0          0      0   \n",
       "1                      0                  0       1      0          0      0   \n",
       "2                      0                  0       0      0          0      0   \n",
       "3                      0                  0       0      0          0      0   \n",
       "4                      0                  0       1      0          0      0   \n",
       "\n",
       "  HasFever  \n",
       "0        0  \n",
       "1        0  \n",
       "2        0  \n",
       "3        0  \n",
       "4        0  "
      ]
     },
     "execution_count": 3,
     "metadata": {},
     "output_type": "execute_result"
    }
   ],
   "source": [
    "import os\n",
    "import pandas as pd\n",
    "\n",
    "if 'dataset.csv' not in os.listdir():\n",
    "    %run parse_dataset.py\n",
    "else:\n",
    "    dataset = pd.read_csv('dataset.csv', dtype=str)\n",
    "dataset.head()"
   ]
  },
  {
   "cell_type": "code",
   "execution_count": 4,
   "metadata": {
    "collapsed": true
   },
   "outputs": [],
   "source": [
    "from pgmpy.models import BayesianModel\n",
    "model = BayesianModel()\n",
    "model.add_edges_from([\n",
    " ('HasHayFever', 'HasFever'),\n",
    " ('HasHayFever', 'IsFatigued'),\n",
    " ('HasHayFever', 'HasRespiratoryProblems'),\n",
    " ('HasHayFever', 'HasRash'),\n",
    " ('HasHayFever', 'Coughs'),\n",
    " ('HasFoodPoisoning', 'HasGastricProblems'),\n",
    " ('HasFoodPoisoning', 'Vomits'),\n",
    " ('IsSummer', 'HasHayFever'),\n",
    " ('HasRespiratoryProblems', 'Coughs'),\n",
    " ('HasFlu', 'HasPneumonia'),\n",
    " ('HasPneumonia', 'IsFatigued'),\n",
    " ('HasPneumonia', 'HasRespiratoryProblems'),\n",
    " ('HasPneumonia', 'HasFever'),\n",
    " ('HasPneumonia', 'Vomits'),\n",
    " ('HasPneumonia', 'HasFoodPoisoning'),\n",
    " ('HasPneumonia', 'Coughs')\n",
    "])"
   ]
  },
  {
   "cell_type": "code",
   "execution_count": 5,
   "metadata": {},
   "outputs": [
    {
     "name": "stdout",
     "output_type": "stream",
     "text": [
      "╒════════════════════════╤═══════════════════════════╤═══════════════════════════╤═══════════════════════════╤═══════════════════════════╤═══════════════════════════╤═══════════════════════════╤═══════════════════════════╤═══════════════════════════╕\n",
      "│ HasHayFever            │ HasHayFever(0)            │ HasHayFever(0)            │ HasHayFever(0)            │ HasHayFever(0)            │ HasHayFever(1)            │ HasHayFever(1)            │ HasHayFever(1)            │ HasHayFever(1)            │\n",
      "├────────────────────────┼───────────────────────────┼───────────────────────────┼───────────────────────────┼───────────────────────────┼───────────────────────────┼───────────────────────────┼───────────────────────────┼───────────────────────────┤\n",
      "│ HasPneumonia           │ HasPneumonia(0)           │ HasPneumonia(0)           │ HasPneumonia(1)           │ HasPneumonia(1)           │ HasPneumonia(0)           │ HasPneumonia(0)           │ HasPneumonia(1)           │ HasPneumonia(1)           │\n",
      "├────────────────────────┼───────────────────────────┼───────────────────────────┼───────────────────────────┼───────────────────────────┼───────────────────────────┼───────────────────────────┼───────────────────────────┼───────────────────────────┤\n",
      "│ HasRespiratoryProblems │ HasRespiratoryProblems(0) │ HasRespiratoryProblems(1) │ HasRespiratoryProblems(0) │ HasRespiratoryProblems(1) │ HasRespiratoryProblems(0) │ HasRespiratoryProblems(1) │ HasRespiratoryProblems(0) │ HasRespiratoryProblems(1) │\n",
      "├────────────────────────┼───────────────────────────┼───────────────────────────┼───────────────────────────┼───────────────────────────┼───────────────────────────┼───────────────────────────┼───────────────────────────┼───────────────────────────┤\n",
      "│ Coughs(0)              │ 0.8999730002136391        │ 0.2489132324813076        │ 0.8965648130575061        │ 0.24758047767393562       │ 0.8999958878831337        │ 0.2513323585089749        │ 0.8915178571428571        │ 0.24981652722735945       │\n",
      "├────────────────────────┼───────────────────────────┼───────────────────────────┼───────────────────────────┼───────────────────────────┼───────────────────────────┼───────────────────────────┼───────────────────────────┼───────────────────────────┤\n",
      "│ Coughs(1)              │ 0.10002699978636091       │ 0.7510867675186924        │ 0.10343518694249383       │ 0.7524195223260643        │ 0.10000411211686636       │ 0.7486676414910252        │ 0.10848214285714286       │ 0.7501834727726405        │\n",
      "╘════════════════════════╧═══════════════════════════╧═══════════════════════════╧═══════════════════════════╧═══════════════════════════╧═══════════════════════════╧═══════════════════════════╧═══════════════════════════╧═══════════════════════════╛\n",
      "╒══════════════╤═════════════════════╤═════════════════════╤═════════════════════╤════════════════════╕\n",
      "│ HasHayFever  │ HasHayFever(0)      │ HasHayFever(0)      │ HasHayFever(1)      │ HasHayFever(1)     │\n",
      "├──────────────┼─────────────────────┼─────────────────────┼─────────────────────┼────────────────────┤\n",
      "│ HasPneumonia │ HasPneumonia(0)     │ HasPneumonia(1)     │ HasPneumonia(0)     │ HasPneumonia(1)    │\n",
      "├──────────────┼─────────────────────┼─────────────────────┼─────────────────────┼────────────────────┤\n",
      "│ HasFever(0)  │ 0.956633752502083   │ 0.48274622011664087 │ 0.9568441804528548  │ 0.478129333165259  │\n",
      "├──────────────┼─────────────────────┼─────────────────────┼─────────────────────┼────────────────────┤\n",
      "│ HasFever(1)  │ 0.04336624749791693 │ 0.5172537798833591  │ 0.04315581954714525 │ 0.5218706668347409 │\n",
      "╘══════════════╧═════════════════════╧═════════════════════╧═════════════════════╧════════════════════╛\n",
      "╒═══════════╤═══════════╕\n",
      "│ HasFlu(0) │ 0.960023  │\n",
      "├───────────┼───────────┤\n",
      "│ HasFlu(1) │ 0.0399766 │\n",
      "╘═══════════╧═══════════╛\n",
      "╒═════════════════════╤═════════════════════╤════════════════════╕\n",
      "│ HasPneumonia        │ HasPneumonia(0)     │ HasPneumonia(1)    │\n",
      "├─────────────────────┼─────────────────────┼────────────────────┤\n",
      "│ HasFoodPoisoning(0) │ 0.8998788330692515  │ 0.9009558648509828 │\n",
      "├─────────────────────┼─────────────────────┼────────────────────┤\n",
      "│ HasFoodPoisoning(1) │ 0.10012116693074843 │ 0.0990441351490172 │\n",
      "╘═════════════════════╧═════════════════════╧════════════════════╛\n",
      "╒═══════════════════════╤══════════════════════╤═════════════════════╕\n",
      "│ HasFoodPoisoning      │ HasFoodPoisoning(0)  │ HasFoodPoisoning(1) │\n",
      "├───────────────────────┼──────────────────────┼─────────────────────┤\n",
      "│ HasGastricProblems(0) │ 0.9644024239700616   │ 0.69003647600309    │\n",
      "├───────────────────────┼──────────────────────┼─────────────────────┤\n",
      "│ HasGastricProblems(1) │ 0.035597576029938384 │ 0.3099635239969099  │\n",
      "╘═══════════════════════╧══════════════════════╧═════════════════════╛\n",
      "╒════════════════╤═════════════════════╤════════════════════╕\n",
      "│ IsSummer       │ IsSummer(0)         │ IsSummer(1)        │\n",
      "├────────────────┼─────────────────────┼────────────────────┤\n",
      "│ HasHayFever(0) │ 0.8001801594411054  │ 0.7990792769209354 │\n",
      "├────────────────┼─────────────────────┼────────────────────┤\n",
      "│ HasHayFever(1) │ 0.19981984055889462 │ 0.2009207230790646 │\n",
      "╘════════════════╧═════════════════════╧════════════════════╛\n",
      "╒═════════════════╤══════════════════════╤══════════════════════╕\n",
      "│ HasFlu          │ HasFlu(0)            │ HasFlu(1)            │\n",
      "├─────────────────┼──────────────────────┼──────────────────────┤\n",
      "│ HasPneumonia(0) │ 0.9800381370457214   │ 0.979679860776372    │\n",
      "├─────────────────┼──────────────────────┼──────────────────────┤\n",
      "│ HasPneumonia(1) │ 0.019961862954278556 │ 0.020320139223627954 │\n",
      "╘═════════════════╧══════════════════════╧══════════════════════╛\n",
      "╒═════════════╤═════════════════════╤═════════════════════╕\n",
      "│ HasHayFever │ HasHayFever(0)      │ HasHayFever(1)      │\n",
      "├─────────────┼─────────────────────┼─────────────────────┤\n",
      "│ HasRash(0)  │ 0.800054249429114   │ 0.8003629491683562  │\n",
      "├─────────────┼─────────────────────┼─────────────────────┤\n",
      "│ HasRash(1)  │ 0.19994575057088607 │ 0.19963705083164388 │\n",
      "╘═════════════╧═════════════════════╧═════════════════════╛\n",
      "╒═══════════════════════════╤══════════════════════╤═════════════════════╤═════════════════════╤════════════════════╕\n",
      "│ HasHayFever               │ HasHayFever(0)       │ HasHayFever(0)      │ HasHayFever(1)      │ HasHayFever(1)     │\n",
      "├───────────────────────────┼──────────────────────┼─────────────────────┼─────────────────────┼────────────────────┤\n",
      "│ HasPneumonia              │ HasPneumonia(0)      │ HasPneumonia(1)     │ HasPneumonia(0)     │ HasPneumonia(1)    │\n",
      "├───────────────────────────┼──────────────────────┼─────────────────────┼─────────────────────┼────────────────────┤\n",
      "│ HasRespiratoryProblems(0) │ 0.9742963041000642   │ 0.24715042919461513 │ 0.49648651580015185 │ 0.1411824026219589 │\n",
      "├───────────────────────────┼──────────────────────┼─────────────────────┼─────────────────────┼────────────────────┤\n",
      "│ HasRespiratoryProblems(1) │ 0.025703695899935833 │ 0.7528495708053848  │ 0.5035134841998482  │ 0.8588175973780411 │\n",
      "╘═══════════════════════════╧══════════════════════╧═════════════════════╧═════════════════════╧════════════════════╛\n",
      "╒═══════════════╤═════════════════════╤════════════════════╤════════════════════╤═════════════════════╕\n",
      "│ HasHayFever   │ HasHayFever(0)      │ HasHayFever(0)     │ HasHayFever(1)     │ HasHayFever(1)      │\n",
      "├───────────────┼─────────────────────┼────────────────────┼────────────────────┼─────────────────────┤\n",
      "│ HasPneumonia  │ HasPneumonia(0)     │ HasPneumonia(1)    │ HasPneumonia(0)    │ HasPneumonia(1)     │\n",
      "├───────────────┼─────────────────────┼────────────────────┼────────────────────┼─────────────────────┤\n",
      "│ IsFatigued(0) │ 0.8566790852990848  │ 0.2115014775552324 │ 0.6257931976087636 │ 0.19103743854783814 │\n",
      "├───────────────┼─────────────────────┼────────────────────┼────────────────────┼─────────────────────┤\n",
      "│ IsFatigued(1) │ 0.14332091470091526 │ 0.7884985224447676 │ 0.3742068023912364 │ 0.8089625614521618  │\n",
      "╘═══════════════╧═════════════════════╧════════════════════╧════════════════════╧═════════════════════╛\n",
      "╒═════════════╤══════════╕\n",
      "│ IsSummer(0) │ 0.750104 │\n",
      "├─────────────┼──────────┤\n",
      "│ IsSummer(1) │ 0.249896 │\n",
      "╘═════════════╧══════════╛\n",
      "╒══════════════════╤═════════════════════╤═════════════════════╤═════════════════════╤═════════════════════╕\n",
      "│ HasFoodPoisoning │ HasFoodPoisoning(0) │ HasFoodPoisoning(0) │ HasFoodPoisoning(1) │ HasFoodPoisoning(1) │\n",
      "├──────────────────┼─────────────────────┼─────────────────────┼─────────────────────┼─────────────────────┤\n",
      "│ HasPneumonia     │ HasPneumonia(0)     │ HasPneumonia(1)     │ HasPneumonia(0)     │ HasPneumonia(1)     │\n",
      "├──────────────────┼─────────────────────┼─────────────────────┼─────────────────────┼─────────────────────┤\n",
      "│ Vomits(0)        │ 0.935030967632822   │ 0.3505012723000125  │ 0.7264380246019337  │ 0.31950417404502907 │\n",
      "├──────────────────┼─────────────────────┼─────────────────────┼─────────────────────┼─────────────────────┤\n",
      "│ Vomits(1)        │ 0.06496903236717799 │ 0.6494987276999875  │ 0.2735619753980662  │ 0.6804958259549709  │\n",
      "╘══════════════════╧═════════════════════╧═════════════════════╧═════════════════════╧═════════════════════╛\n"
     ]
    }
   ],
   "source": [
    "import numpy as np\n",
    "intrain = np.random.rand(len(dataset)) < 0.999 # About 4000 testing points\n",
    "model.fit(dataset[intrain])\n",
    "model.get_cpds():"
   ]
  },
  {
   "cell_type": "code",
   "execution_count": 14,
   "metadata": {},
   "outputs": [],
   "source": [
    "columns = ['IsSummer','HasFlu','HasFoodPoisoning','HasHayFever','HasPneumonia',\n",
    "        'HasRespiratoryProblems', 'HasGastricProblems', 'HasRash', 'Coughs',\n",
    "        'IsFatigued', 'Vomits','HasFever']\n",
    "output = model.predict(dataset[~intrain][[*columns[:4],*columns[5:]]])"
   ]
  },
  {
   "cell_type": "code",
   "execution_count": 15,
   "metadata": {},
   "outputs": [
    {
     "data": {
      "text/plain": [
       "4092"
      ]
     },
     "execution_count": 15,
     "metadata": {},
     "output_type": "execute_result"
    }
   ],
   "source": [
    "len(output)"
   ]
  },
  {
   "cell_type": "code",
   "execution_count": 19,
   "metadata": {},
   "outputs": [
    {
     "data": {
      "text/plain": [
       "4038"
      ]
     },
     "execution_count": 19,
     "metadata": {},
     "output_type": "execute_result"
    }
   ],
   "source": [
    "sum(output.values.ravel() == dataset[~intrain][['HasPneumonia']].values.ravel())"
   ]
  },
  {
   "cell_type": "code",
   "execution_count": 21,
   "metadata": {},
   "outputs": [],
   "source": [
    "from sklearn.ensemble import RandomForestClassifier\n",
    "clf = RandomForestClassifier()\n",
    "clf.fit(dataset[intrain][[*columns[:4],*columns[5:]]], dataset[intrain][['HasPneumonia']].values.ravel())\n",
    "output_rfc = clf.predict(dataset[~intrain][[*columns[:4],*columns[5:]]])"
   ]
  },
  {
   "cell_type": "code",
   "execution_count": 22,
   "metadata": {},
   "outputs": [
    {
     "data": {
      "text/plain": [
       "4067"
      ]
     },
     "execution_count": 22,
     "metadata": {},
     "output_type": "execute_result"
    }
   ],
   "source": [
    "sum(output_rfc.ravel() == dataset[~intrain][['HasPneumonia']].values.ravel())"
   ]
  },
  {
   "cell_type": "code",
   "execution_count": null,
   "metadata": {
    "collapsed": true
   },
   "outputs": [],
   "source": []
  }
 ],
 "metadata": {
  "kernelspec": {
   "display_name": "Python [conda root]",
   "language": "python",
   "name": "conda-root-py"
  },
  "language_info": {
   "codemirror_mode": {
    "name": "ipython",
    "version": 3
   },
   "file_extension": ".py",
   "mimetype": "text/x-python",
   "name": "python",
   "nbconvert_exporter": "python",
   "pygments_lexer": "ipython3",
   "version": "3.5.3"
  }
 },
 "nbformat": 4,
 "nbformat_minor": 2
}
